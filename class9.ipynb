{
 "cells": [
  {
   "cell_type": "code",
   "execution_count": 19,
   "id": "1131a6d5-eacc-4161-9b8a-d0dc571a0893",
   "metadata": {},
   "outputs": [
    {
     "name": "stdout",
     "output_type": "stream",
     "text": [
      "Requirement already satisfied: pandas in c:\\users\\hp\\anaconda3\\lib\\site-packages (2.1.4)\n",
      "Requirement already satisfied: numpy<2,>=1.23.2 in c:\\users\\hp\\anaconda3\\lib\\site-packages (from pandas) (1.26.4)\n",
      "Requirement already satisfied: python-dateutil>=2.8.2 in c:\\users\\hp\\anaconda3\\lib\\site-packages (from pandas) (2.8.2)\n",
      "Requirement already satisfied: pytz>=2020.1 in c:\\users\\hp\\anaconda3\\lib\\site-packages (from pandas) (2023.3.post1)\n",
      "Requirement already satisfied: tzdata>=2022.1 in c:\\users\\hp\\anaconda3\\lib\\site-packages (from pandas) (2023.3)\n",
      "Requirement already satisfied: six>=1.5 in c:\\users\\hp\\anaconda3\\lib\\site-packages (from python-dateutil>=2.8.2->pandas) (1.16.0)\n",
      "Note: you may need to restart the kernel to use updated packages.\n"
     ]
    }
   ],
   "source": [
    "pip install pandas"
   ]
  },
  {
   "cell_type": "code",
   "execution_count": 7,
   "id": "f4d1c07c-262c-4f14-ab11-27c35a1ecc67",
   "metadata": {},
   "outputs": [
    {
     "name": "stdout",
     "output_type": "stream",
     "text": [
      "0    1\n",
      "1    2\n",
      "2    3\n",
      "3    4\n",
      "4    5\n",
      "5    6\n",
      "dtype: int64\n"
     ]
    }
   ],
   "source": [
    "import pandas as pd\n",
    "import numpy as np\n",
    "\n",
    "# creating series using list\n",
    "data = [1,2,3,4,5,6] #list\n",
    "series = pd.Series(data)  #arr = np.array(data)\n",
    "print (series) "
   ]
  },
  {
   "cell_type": "code",
   "execution_count": 6,
   "id": "46bccab1-8cab-405a-8f73-b8d71f53c039",
   "metadata": {},
   "outputs": [
    {
     "name": "stdout",
     "output_type": "stream",
     "text": [
      "a    10\n",
      "b    20\n",
      "c    30\n",
      "d    40\n",
      "e    50\n",
      "dtype: int64\n",
      "Accessing a value:  10\n"
     ]
    },
    {
     "name": "stderr",
     "output_type": "stream",
     "text": [
      "C:\\Users\\hp\\AppData\\Local\\Temp\\ipykernel_12000\\2127901744.py:6: FutureWarning: Series.__getitem__ treating keys as positions is deprecated. In a future version, integer keys will always be treated as labels (consistent with DataFrame behavior). To access a value by position, use `ser.iloc[pos]`\n",
      "  print(\"Accessing a value: \",s[0])  # s['a'] / s.iloc[0]\n"
     ]
    }
   ],
   "source": [
    "# series using index parameter \n",
    "data = [10, 20, 30, 40, 50]\n",
    "index = ['a', 'b', 'c', 'd', 'e'] # can be array, tuple, list\n",
    "s = pd.Series(data, index=index)\n",
    "print(s)\n",
    "print(\"Accessing a value: \",s[0])  # s['a'] / s.iloc[0]"
   ]
  },
  {
   "cell_type": "code",
   "execution_count": 7,
   "id": "0db9c88f-8f82-4711-9951-9dc944a49f79",
   "metadata": {},
   "outputs": [
    {
     "name": "stdout",
     "output_type": "stream",
     "text": [
      "0    1\n",
      "1    2\n",
      "2    3\n",
      "3    4\n",
      "4    5\n",
      "dtype: int32\n"
     ]
    }
   ],
   "source": [
    "# creating series through arrays\n",
    "arr = np.array([1,2,3,4,5])\n",
    "s = pd.Series(arr);\n",
    "print(s)"
   ]
  },
  {
   "cell_type": "code",
   "execution_count": 11,
   "id": "ce4968ba-dac6-4363-b8ad-1effb665e28b",
   "metadata": {},
   "outputs": [
    {
     "name": "stdout",
     "output_type": "stream",
     "text": [
      "day1    420\n",
      "day2    380\n",
      "day3    390\n",
      "dtype: int64\n"
     ]
    }
   ],
   "source": [
    "#series using dict.\n",
    "workout = {\"day1\": 420, \"day2\": 380, \"day3\": 390} # dict\n",
    "myvar = pd.Series(workout) # keys become labels or indices\n",
    "print(myvar)"
   ]
  },
  {
   "cell_type": "code",
   "execution_count": 9,
   "id": "10d13e30-b233-4fe5-878c-88c00b95d9cd",
   "metadata": {},
   "outputs": [
    {
     "name": "stdout",
     "output_type": "stream",
     "text": [
      "day1    420\n",
      "day2    380\n",
      "dtype: int64\n"
     ]
    }
   ],
   "source": [
    "# including only some values \n",
    "calories = {\"day1\": 420, \"day2\": 380, \"day3\": 390} # dict \n",
    "myvar = pd.Series(calories, index = [\"day1\", \"day2\"])\n",
    "print(myvar)"
   ]
  },
  {
   "cell_type": "code",
   "execution_count": 12,
   "id": "93f494d1-10d3-4731-a1d4-d523a5e16f73",
   "metadata": {},
   "outputs": [
    {
     "name": "stdout",
     "output_type": "stream",
     "text": [
      "a    1.0\n",
      "b    1.0\n",
      "c    1.0\n",
      "dtype: float64\n"
     ]
    }
   ],
   "source": [
    "s = pd.Series(1.0, index =['a','b','c'])\n",
    "print(s)"
   ]
  },
  {
   "cell_type": "code",
   "execution_count": 10,
   "id": "57baee4b-8c92-4a54-85c5-f83903296a6f",
   "metadata": {},
   "outputs": [
    {
     "name": "stdout",
     "output_type": "stream",
     "text": [
      "    0\n",
      "0  10\n",
      "1  20\n",
      "2  30\n",
      "3  40\n",
      "<class 'pandas.core.frame.DataFrame'>\n"
     ]
    }
   ],
   "source": [
    "listx = [10,20,30,40]\n",
    "df = pd.DataFrame(listx)\n",
    "print (df)\n",
    "print(type(df))"
   ]
  },
  {
   "cell_type": "code",
   "execution_count": 13,
   "id": "3a2e7e98-fcd6-4886-8ce9-19fcda1daaed",
   "metadata": {},
   "outputs": [
    {
     "name": "stdout",
     "output_type": "stream",
     "text": [
      "     a    b      c\n",
      "0    1    2    3.0\n",
      "1    4    5    NaN\n",
      "2  100  200  500.0\n"
     ]
    }
   ],
   "source": [
    "# create a df using list of dict--------------------\n",
    "dict = [{'a':1, 'b':2,'c':3}, {'a':4, 'b': 5}, {'a':100, 'b':200,'c':500}]\n",
    "df = pd.DataFrame(dict)\n",
    "print (df)"
   ]
  },
  {
   "cell_type": "code",
   "execution_count": 14,
   "id": "83193f70-02e4-4fdb-b5fb-419f5ef2861c",
   "metadata": {},
   "outputs": [
    {
     "name": "stdout",
     "output_type": "stream",
     "text": [
      "   one  two\n",
      "a  1.0    1\n",
      "b  2.0    2\n",
      "c  NaN    3\n"
     ]
    }
   ],
   "source": [
    "# creating a dataframe using dict of series \n",
    "dict = {'one':pd.Series([1,2], index = ['a', 'b']),\n",
    "        'two':pd.Series([1,2,3], index=['a','b','c'])}\n",
    "df = pd.DataFrame(dict)\n",
    "print(df)"
   ]
  },
  {
   "cell_type": "code",
   "execution_count": 25,
   "id": "042b451c-56da-4d18-b558-ae19dc830147",
   "metadata": {
    "scrolled": true
   },
   "outputs": [
    {
     "name": "stdout",
     "output_type": "stream",
     "text": [
      "Dataframe is: \n",
      "      a   b\n",
      "0  420  50\n",
      "1  380  40\n",
      "2  390  45\n",
      "--------------------------------------\n",
      "a    420\n",
      "b     50\n",
      "Name: 0, dtype: int64\n",
      "<class 'pandas.core.series.Series'>\n",
      "--------------------------------------\n",
      "     a   b\n",
      "0  420  50\n",
      "1  380  40\n",
      "2  390  45\n",
      "<class 'pandas.core.frame.DataFrame'>\n"
     ]
    }
   ],
   "source": [
    "# ----------------------------creating a data frame-------------------------------\n",
    "data = {\n",
    "  \"a\": [420, 380, 390],\n",
    "  \"b\": [50, 40, 45]\n",
    "}\n",
    "#load data into a DataFrame object:\n",
    "df = pd.DataFrame(data)\n",
    "print(\"Dataframe is: \\n\",df)\n",
    "print(\"--------------------------------------\")\n",
    "print(df.loc[0]) # loc attr. returns rows, this returns series, You can access a single row of the DataFrame \n",
    "print(type(df.loc[0]))\n",
    "print(\"--------------------------------------\")\n",
    "print(df.loc[[0, 2]]) # returns pandas dataframe, You can access multiple row of the DataFrame \n",
    "print(type(df.loc[[0,1]]))"
   ]
  },
  {
   "cell_type": "code",
   "execution_count": 23,
   "id": "f30ca5fc-0898-41f4-970d-fe7f5e711f88",
   "metadata": {},
   "outputs": [
    {
     "name": "stdout",
     "output_type": "stream",
     "text": [
      "          a   b\n",
      "index1  420  50\n",
      "index2  380  40\n",
      "index3  390  45\n"
     ]
    }
   ],
   "source": [
    "#naming our own index \n",
    "data = {\n",
    "  \"a\": [420, 380, 390],\n",
    "  \"b\": [50, 40, 45]\n",
    "}\n",
    "\n",
    "df = pd.DataFrame(data, index = [\"index1\", \"index2\", \"index3\"])\n",
    "print (df)"
   ]
  },
  {
   "cell_type": "code",
   "execution_count": 18,
   "id": "67478733-88e7-45c4-a686-a9672b31a638",
   "metadata": {},
   "outputs": [
    {
     "name": "stdout",
     "output_type": "stream",
     "text": [
      "small     18\n",
      "medium    25\n",
      "large     30\n",
      "dtype: int64\n",
      "--------------------------------------\n",
      "[18 25 30]\n",
      "--------------------------------------\n",
      "3\n",
      "--------------------------------------\n",
      "Index(['small', 'medium', 'large'], dtype='object')\n",
      "--------------------------------------\n",
      "(3,)\n"
     ]
    }
   ],
   "source": [
    "# functionality of series--------------------------\n",
    "Fruits = pd.Series([18,25,30], index=['small', 'medium','large'])\n",
    "print (Fruits)\n",
    "print(\"--------------------------------------\")\n",
    "print(Fruits.values)\n",
    "print(\"--------------------------------------\")\n",
    "print (Fruits.size)\n",
    "print(\"--------------------------------------\")\n",
    "print (Fruits.index)\n",
    "print(\"--------------------------------------\")\n",
    "print (Fruits.shape) "
   ]
  },
  {
   "cell_type": "code",
   "execution_count": null,
   "id": "cabb887a-6f0d-45b2-b4a3-6e2555e696b6",
   "metadata": {},
   "outputs": [],
   "source": []
  }
 ],
 "metadata": {
  "kernelspec": {
   "display_name": "Python 3 (ipykernel)",
   "language": "python",
   "name": "python3"
  },
  "language_info": {
   "codemirror_mode": {
    "name": "ipython",
    "version": 3
   },
   "file_extension": ".py",
   "mimetype": "text/x-python",
   "name": "python",
   "nbconvert_exporter": "python",
   "pygments_lexer": "ipython3",
   "version": "3.12.4"
  }
 },
 "nbformat": 4,
 "nbformat_minor": 5
}
